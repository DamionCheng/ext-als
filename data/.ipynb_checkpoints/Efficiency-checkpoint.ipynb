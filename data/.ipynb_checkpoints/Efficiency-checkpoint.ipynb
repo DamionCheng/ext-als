{
 "cells": [
  {
   "cell_type": "markdown",
   "metadata": {},
   "source": [
    "本程序用于eALS与extALS的性能比较，从log中取出执行迭代以及计算loss的时间，然后生成图表。"
   ]
  },
  {
   "cell_type": "code",
   "execution_count": 1,
   "metadata": {
    "collapsed": true
   },
   "outputs": [],
   "source": [
    "# 两个指标。其中T指标只对extALS有效，在初始化完成后，eALS就没有T指标了\n",
    "K = [1,2,4,8,16,32,64]\n",
    "T = [1,2,4,8,16,32,64]"
   ]
  },
  {
   "cell_type": "code",
   "execution_count": 2,
   "metadata": {},
   "outputs": [
    {
     "name": "stdout",
     "output_type": "stream",
     "text": [
      "['Iter=0 [00:00:00.748]\\t [-]loss: 639835.8893 [00:00:00.152]', 'Iter=1 [00:00:00.607]\\t [-]loss: 373165.9465 [00:00:00.143]', 'Iter=2 [00:00:00.496]\\t [-]loss: 228204.8527 [00:00:00.122]', 'Iter=3 [00:00:00.500]\\t [-]loss: 190433.5366 [00:00:00.123]', 'Iter=4 [00:00:00.500]\\t [-]loss: 189547.7956 [00:00:00.124]', 'Iter=5 [00:00:00.507]\\t [-]loss: 189190.3032 [00:00:00.117]', 'Iter=6 [00:00:00.659]\\t [-]loss: 188867.2715 [00:00:00.137]', 'Iter=7 [00:00:00.525]\\t [-]loss: 188567.6505 [00:00:00.137]', 'Iter=8 [00:00:00.525]\\t [-]loss: 188287.9938 [00:00:00.137]', 'Iter=9 [00:00:00.539]\\t [-]loss: 188026.1573 [00:00:00.137]']\n"
     ]
    }
   ],
   "source": [
    "times = {}\n",
    "for k in K:\n",
    "    times[k] = {}\n",
    "    for t in T:\n",
    "        times[k][t] = []\n",
    "        with open('extALS_r%d_f%d.log' % (t, k)) as f:\n",
    "            ct = f.readlines()\n",
    "            for l in ct:\n",
    "                if l.startswith('Iter'):\n",
    "                    times[k][t].append(l.strip())\n",
    "print times[1][1]"
   ]
  },
  {
   "cell_type": "code",
   "execution_count": 3,
   "metadata": {},
   "outputs": [
    {
     "name": "stdout",
     "output_type": "stream",
     "text": [
      "(0.5606000000000001, 0.13290000000000002)\n"
     ]
    }
   ],
   "source": [
    "import re\n",
    "rule = r\"\\d{2}:\\d{2}:\\d{2}\\.\\d{3}\"\n",
    "\n",
    "def convertTime(t):\n",
    "    t3 = map(float, t.split(':'))\n",
    "    return t3[0] * 3600 + t3[1] * 60 + t3[2]\n",
    "\n",
    "for k in K:\n",
    "    for t in T:\n",
    "        run_time = 0\n",
    "        loss_time = 0\n",
    "        for l in times[k][t]:\n",
    "            details = re.findall(rule, l)\n",
    "            run_time += convertTime(details[0])\n",
    "            loss_time += convertTime(details[1])\n",
    "        sz = len(times[k][t])\n",
    "        times[k][t] = (run_time / sz, loss_time / sz)\n",
    "\n",
    "print times[1][1]"
   ]
  },
  {
   "cell_type": "code",
   "execution_count": 4,
   "metadata": {},
   "outputs": [
    {
     "name": "stdout",
     "output_type": "stream",
     "text": [
      "{32: [0.6532000000000001, 0.8813000000000001, 1.0371000000000001, 1.7132999999999998, 3.6915, 11.4214, 48.0411], 1: [0.5606000000000001, 0.6134999999999999, 0.6714, 0.8491, 1.163, 1.9563, 4.2143], 2: [0.5648000000000001, 0.6129, 0.6803, 0.8615, 1.2826999999999997, 2.2780000000000005, 5.115], 4: [0.5719000000000001, 0.6091, 0.7182000000000001, 0.9098, 1.3879, 2.7207, 6.994199999999999], 8: [0.5679, 0.6748999999999999, 0.7878000000000001, 1.0277, 1.7127, 3.7292, 11.3668], 64: [0.8052999999999999, 0.9683000000000002, 1.4426, 2.613, 6.6156999999999995, 24.037499999999998, 99.4249], 16: [0.5986000000000001, 0.7230000000000001, 0.8546999999999999, 1.2666000000000002, 2.2979000000000003, 5.9881, 23.6873]}\n"
     ]
    }
   ],
   "source": [
    "run_time = {}\n",
    "loss_time = {}\n",
    "for t in T:\n",
    "    run_time[t] = []\n",
    "    loss_time[t] = []\n",
    "    for k in K:\n",
    "        run_time[t].append(times[k][t][0])\n",
    "        loss_time[t].append(times[k][t][1])\n",
    "\n",
    "print run_time"
   ]
  },
  {
   "cell_type": "markdown",
   "metadata": {},
   "source": [
    "此处读取eALS相关的数据，用作baseline"
   ]
  },
  {
   "cell_type": "code",
   "execution_count": 5,
   "metadata": {},
   "outputs": [
    {
     "name": "stdout",
     "output_type": "stream",
     "text": [
      "['Iter=0 [00:01:47.784]\\t [-]loss: 666723.3923 [00:00:14.829]', 'Iter=1 [00:01:47.591]\\t [-]loss: 591944.0817 [00:00:14.142]', 'Iter=2 [00:01:38.751]\\t [-]loss: 568924.2051 [00:00:12.628]', 'Iter=3 [00:01:38.640]\\t [-]loss: 566837.8008 [00:00:12.629]', 'Iter=4 [00:01:49.782]\\t [-]loss: 566548.8489 [00:00:12.662]', 'Iter=5 [00:01:39.093]\\t [-]loss: 566449.5030 [00:00:12.661]', 'Iter=6 [00:02:20.466]\\t [-]loss: 566416.7846 [00:00:12.696]', 'Iter=7 [00:01:59.089]\\t [-]loss: 566405.8906 [00:00:12.690]', 'Iter=8 [00:02:44.035]\\t [-]loss: 566401.4052 [00:00:12.708]', 'Iter=9 [00:02:45.012]\\t [-]loss: 566398.8386 [00:00:12.699]']\n"
     ]
    }
   ],
   "source": [
    "baseline = {}\n",
    "for k in K:\n",
    "    baseline[k] = []\n",
    "    with open('eALS_f%d_r64.log' % k) as f:\n",
    "        ct = f.readlines()\n",
    "        for l in ct:\n",
    "            if l.startswith('Iter'):\n",
    "                baseline[k].append(l.strip())\n",
    "\n",
    "print baseline[1]"
   ]
  },
  {
   "cell_type": "code",
   "execution_count": 6,
   "metadata": {},
   "outputs": [
    {
     "name": "stdout",
     "output_type": "stream",
     "text": [
      "(121.0243, 13.0344)\n"
     ]
    }
   ],
   "source": [
    "for k in K:\n",
    "    run_t = 0\n",
    "    loss_t = 0\n",
    "    for l in baseline[k]:\n",
    "        details = re.findall(rule, l)\n",
    "        run_t += convertTime(details[0])\n",
    "        loss_t += convertTime(details[1])\n",
    "    sz = len(baseline[k])\n",
    "    baseline[k] = (run_t / sz, loss_t / sz)\n",
    "\n",
    "print baseline[1]"
   ]
  },
  {
   "cell_type": "code",
   "execution_count": 13,
   "metadata": {},
   "outputs": [
    {
     "name": "stdout",
     "output_type": "stream",
     "text": [
      "[121.0243, 155.49059999999997, 151.2919, 245.67270000000002, 418.2587, 755.6738000000001, 1407.4487]\n"
     ]
    }
   ],
   "source": [
    "run_bl = []\n",
    "loss_bl = []\n",
    "for k in K:\n",
    "    run_bl.append(baseline[k][0])\n",
    "    loss_bl.append(baseline[k][1])\n",
    "\n",
    "print run_bl"
   ]
  },
  {
   "cell_type": "code",
   "execution_count": 12,
   "metadata": {},
   "outputs": [
    {
     "data": {
      "image/png": "[encoded data removed]",
      "text/plain": [
       "<matplotlib.figure.Figure at 0x7facd4673f50>"
      ]
     },
     "metadata": {},
     "output_type": "display_data"
    }
   ],
   "source": [
    "import matplotlib.pyplot as plt\n",
    "import math\n",
    "for t in T:\n",
    "    plt.plot(map(math.log,K), run_time[t], '--')\n",
    "\n",
    "plt.plot(map(math.log,K), run_bl)\n",
    "plt.show()"
   ]
  },
  {
   "cell_type": "code",
   "execution_count": 9,
   "metadata": {},
   "outputs": [
    {
     "data": {
      "text/plain": [
       "1.0"
      ]
     },
     "execution_count": 9,
     "metadata": {},
     "output_type": "execute_result"
    }
   ],
   "source": [
    "import math\n",
    "math.log10(10)"
   ]
  },
  {
   "cell_type": "code",
   "execution_count": null,
   "metadata": {
    "collapsed": true
   },
   "outputs": [],
   "source": []
  }
 ],
 "metadata": {
  "kernelspec": {
   "display_name": "Python 2",
   "language": "python",
   "name": "python2"
  },
  "language_info": {
   "codemirror_mode": {
    "name": "ipython",
    "version": 2
   },
   "file_extension": ".py",
   "mimetype": "text/x-python",
   "name": "python",
   "nbconvert_exporter": "python",
   "pygments_lexer": "ipython2",
   "version": "2.7.12"
  }
 },
 "nbformat": 4,
 "nbformat_minor": 2
}
